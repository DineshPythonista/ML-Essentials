{
 "cells": [
  {
   "cell_type": "code",
   "execution_count": 1,
   "id": "574f4105",
   "metadata": {},
   "outputs": [
    {
     "name": "stdout",
     "output_type": "stream",
     "text": [
      "Defaulting to user installation because normal site-packages is not writeable\n",
      "Requirement already satisfied: neurolab in c:\\users\\dllab\\appdata\\roaming\\python\\python39\\site-packages (0.3.5)\n",
      "Note: you may need to restart the kernel to use updated packages.\n"
     ]
    }
   ],
   "source": [
    "pip install neurolab"
   ]
  },
  {
   "cell_type": "code",
   "execution_count": 2,
   "id": "98d4c5b4",
   "metadata": {},
   "outputs": [],
   "source": [
    "import numpy as np\n",
    "import neurolab as nl"
   ]
  },
  {
   "cell_type": "code",
   "execution_count": 15,
   "id": "31f33eb2",
   "metadata": {},
   "outputs": [],
   "source": [
    "target = [[1,1,1,0,0,\n",
    "           1,0,0,1,0,\n",
    "           1,0,0,0,1,\n",
    "           1,0,0,1,0,\n",
    "           1,1,1,0,0],\n",
    "          [1,1,1,1,1,\n",
    "           0,0,1,0,0,\n",
    "           0,0,1,0,0,\n",
    "           0,0,1,0,0,\n",
    "           1,1,1,1,1],\n",
    "          [1,0,0,0,1,\n",
    "           1,1,0,0,1,\n",
    "           1,0,1,0,1,\n",
    "           1,0,0,1,1,\n",
    "           1,0,0,0,1],\n",
    "          [0,1,1,1,1,\n",
    "           1,0,0,0,0,\n",
    "           0,1,1,1,0,\n",
    "           0,0,0,0,1,\n",
    "           1,1,1,1,0],\n",
    "          [1,1,1,1,1,\n",
    "           1,0,0,0,0,\n",
    "           1,1,1,1,1,\n",
    "           0,0,0,0,1,\n",
    "           1,1,1,1,1],\n",
    "          [1,0,0,0,1,\n",
    "           1,0,0,0,1,\n",
    "           1,1,1,1,1,\n",
    "           1,0,0,0,1,\n",
    "           1,0,0,0,1]]"
   ]
  },
  {
   "cell_type": "code",
   "execution_count": 16,
   "id": "d8d04c46",
   "metadata": {},
   "outputs": [],
   "source": [
    "chars = [\"D\",\"I\",\"N\",\"E\",\"S\",\"H\"]"
   ]
  },
  {
   "cell_type": "code",
   "execution_count": 17,
   "id": "0a3606c9",
   "metadata": {},
   "outputs": [],
   "source": [
    "target = np.asfarray(target)\n",
    "target[target == 0] = -1"
   ]
  },
  {
   "cell_type": "code",
   "execution_count": 18,
   "id": "cbd5fa54",
   "metadata": {},
   "outputs": [
    {
     "data": {
      "text/plain": [
       "array([[ 1.,  1.,  1., -1., -1.,  1., -1., -1.,  1., -1.,  1., -1., -1.,\n",
       "        -1.,  1.,  1., -1., -1.,  1., -1.,  1.,  1.,  1., -1., -1.],\n",
       "       [ 1.,  1.,  1.,  1.,  1., -1., -1.,  1., -1., -1., -1., -1.,  1.,\n",
       "        -1., -1., -1., -1.,  1., -1., -1.,  1.,  1.,  1.,  1.,  1.],\n",
       "       [ 1., -1., -1., -1.,  1.,  1.,  1., -1., -1.,  1.,  1., -1.,  1.,\n",
       "        -1.,  1.,  1., -1., -1.,  1.,  1.,  1., -1., -1., -1.,  1.],\n",
       "       [-1.,  1.,  1.,  1.,  1.,  1., -1., -1., -1., -1., -1.,  1.,  1.,\n",
       "         1., -1., -1., -1., -1., -1.,  1.,  1.,  1.,  1.,  1., -1.],\n",
       "       [ 1.,  1.,  1.,  1.,  1.,  1., -1., -1., -1., -1.,  1.,  1.,  1.,\n",
       "         1.,  1., -1., -1., -1., -1.,  1.,  1.,  1.,  1.,  1.,  1.],\n",
       "       [ 1., -1., -1., -1.,  1.,  1., -1., -1., -1.,  1.,  1.,  1.,  1.,\n",
       "         1.,  1.,  1., -1., -1., -1.,  1.,  1., -1., -1., -1.,  1.]])"
      ]
     },
     "execution_count": 18,
     "metadata": {},
     "output_type": "execute_result"
    }
   ],
   "source": [
    "target"
   ]
  },
  {
   "cell_type": "code",
   "execution_count": 19,
   "id": "48ccf5cd",
   "metadata": {},
   "outputs": [],
   "source": [
    "net = nl.net.newhop(target)\n",
    "output = net.sim(target)"
   ]
  },
  {
   "cell_type": "code",
   "execution_count": 20,
   "id": "71c736f9",
   "metadata": {},
   "outputs": [
    {
     "name": "stdout",
     "output_type": "stream",
     "text": [
      "Test on train samples\n",
      "D True\n",
      "I False\n",
      "N True\n",
      "E False\n",
      "S True\n",
      "H True\n"
     ]
    }
   ],
   "source": [
    "print(\"Test on train samples\")\n",
    "for i in range(len(target)):\n",
    "    print(chars[i], (output[i] == target[i]).all())"
   ]
  },
  {
   "cell_type": "code",
   "execution_count": 41,
   "id": "b1c5a4eb",
   "metadata": {},
   "outputs": [
    {
     "name": "stdout",
     "output_type": "stream",
     "text": [
      "Test on D\n"
     ]
    }
   ],
   "source": [
    "print(\"Test on D\")\n",
    "test = np.asfarray([1,1,1,0,0,\n",
    "                    1,0,0,1,0,\n",
    "                    1,0,0,0,1,\n",
    "                    1,0,0,0,0,\n",
    "                    0,1,1,0,0])"
   ]
  },
  {
   "cell_type": "code",
   "execution_count": 42,
   "id": "9735aa39",
   "metadata": {},
   "outputs": [],
   "source": [
    "test[test == 0] = -1"
   ]
  },
  {
   "cell_type": "code",
   "execution_count": 43,
   "id": "21807bbc",
   "metadata": {},
   "outputs": [],
   "source": [
    "out = net.sim([test])"
   ]
  },
  {
   "cell_type": "code",
   "execution_count": 44,
   "id": "9a55f2b9",
   "metadata": {},
   "outputs": [
    {
     "name": "stdout",
     "output_type": "stream",
     "text": [
      "D True Sim steps  1\n"
     ]
    }
   ],
   "source": [
    "print( chars[0], (out[0] == target[0]).all(), \"Sim steps \", len(net.layers[0].outs))"
   ]
  },
  {
   "cell_type": "code",
   "execution_count": null,
   "id": "caa11665",
   "metadata": {},
   "outputs": [],
   "source": []
  },
  {
   "cell_type": "code",
   "execution_count": null,
   "id": "4c8fa1e0",
   "metadata": {},
   "outputs": [],
   "source": []
  }
 ],
 "metadata": {
  "kernelspec": {
   "display_name": "Python 3 (ipykernel)",
   "language": "python",
   "name": "python3"
  },
  "language_info": {
   "codemirror_mode": {
    "name": "ipython",
    "version": 3
   },
   "file_extension": ".py",
   "mimetype": "text/x-python",
   "name": "python",
   "nbconvert_exporter": "python",
   "pygments_lexer": "ipython3",
   "version": "3.9.13"
  }
 },
 "nbformat": 4,
 "nbformat_minor": 5
}

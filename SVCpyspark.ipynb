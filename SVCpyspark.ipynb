{
 "cells": [
  {
   "cell_type": "code",
   "execution_count": 1,
   "id": "77b32620",
   "metadata": {},
   "outputs": [
    {
     "name": "stdout",
     "output_type": "stream",
     "text": [
      "Defaulting to user installation because normal site-packages is not writeable\n",
      "Requirement already satisfied: pyspark in c:\\users\\dllab\\appdata\\roaming\\python\\python39\\site-packages (3.4.1)\n",
      "Requirement already satisfied: py4j==0.10.9.7 in c:\\users\\dllab\\appdata\\roaming\\python\\python39\\site-packages (from pyspark) (0.10.9.7)\n",
      "Note: you may need to restart the kernel to use updated packages.\n"
     ]
    }
   ],
   "source": [
    "pip install pyspark"
   ]
  },
  {
   "cell_type": "code",
   "execution_count": 2,
   "id": "b5c3d099",
   "metadata": {},
   "outputs": [],
   "source": [
    "import numpy as np\n",
    "import pandas as pd"
   ]
  },
  {
   "cell_type": "code",
   "execution_count": 3,
   "id": "ba6a450c",
   "metadata": {},
   "outputs": [],
   "source": [
    "from pyspark.sql import SparkSession\n",
    "spark = SparkSession.builder.appName(\"pandas to spark\").getOrCreate()"
   ]
  },
  {
   "cell_type": "code",
   "execution_count": 14,
   "id": "14eed82e",
   "metadata": {},
   "outputs": [
    {
     "data": {
      "text/html": [
       "<div>\n",
       "<style scoped>\n",
       "    .dataframe tbody tr th:only-of-type {\n",
       "        vertical-align: middle;\n",
       "    }\n",
       "\n",
       "    .dataframe tbody tr th {\n",
       "        vertical-align: top;\n",
       "    }\n",
       "\n",
       "    .dataframe thead th {\n",
       "        text-align: right;\n",
       "    }\n",
       "</style>\n",
       "<table border=\"1\" class=\"dataframe\">\n",
       "  <thead>\n",
       "    <tr style=\"text-align: right;\">\n",
       "      <th></th>\n",
       "      <th>SIZE</th>\n",
       "      <th>FUEL</th>\n",
       "      <th>DISTANCE</th>\n",
       "      <th>DESIBEL</th>\n",
       "      <th>AIRFLOW</th>\n",
       "      <th>FREQUENCY</th>\n",
       "      <th>STATUS</th>\n",
       "    </tr>\n",
       "  </thead>\n",
       "  <tbody>\n",
       "    <tr>\n",
       "      <th>0</th>\n",
       "      <td>1</td>\n",
       "      <td>0</td>\n",
       "      <td>10</td>\n",
       "      <td>96</td>\n",
       "      <td>0.0</td>\n",
       "      <td>75</td>\n",
       "      <td>0</td>\n",
       "    </tr>\n",
       "    <tr>\n",
       "      <th>1</th>\n",
       "      <td>1</td>\n",
       "      <td>0</td>\n",
       "      <td>10</td>\n",
       "      <td>96</td>\n",
       "      <td>0.0</td>\n",
       "      <td>72</td>\n",
       "      <td>1</td>\n",
       "    </tr>\n",
       "    <tr>\n",
       "      <th>2</th>\n",
       "      <td>1</td>\n",
       "      <td>0</td>\n",
       "      <td>10</td>\n",
       "      <td>96</td>\n",
       "      <td>2.6</td>\n",
       "      <td>70</td>\n",
       "      <td>1</td>\n",
       "    </tr>\n",
       "    <tr>\n",
       "      <th>3</th>\n",
       "      <td>1</td>\n",
       "      <td>0</td>\n",
       "      <td>10</td>\n",
       "      <td>96</td>\n",
       "      <td>3.2</td>\n",
       "      <td>68</td>\n",
       "      <td>1</td>\n",
       "    </tr>\n",
       "    <tr>\n",
       "      <th>4</th>\n",
       "      <td>1</td>\n",
       "      <td>0</td>\n",
       "      <td>10</td>\n",
       "      <td>109</td>\n",
       "      <td>4.5</td>\n",
       "      <td>67</td>\n",
       "      <td>1</td>\n",
       "    </tr>\n",
       "  </tbody>\n",
       "</table>\n",
       "</div>"
      ],
      "text/plain": [
       "   SIZE  FUEL  DISTANCE  DESIBEL  AIRFLOW  FREQUENCY  STATUS\n",
       "0     1     0        10       96      0.0         75       0\n",
       "1     1     0        10       96      0.0         72       1\n",
       "2     1     0        10       96      2.6         70       1\n",
       "3     1     0        10       96      3.2         68       1\n",
       "4     1     0        10      109      4.5         67       1"
      ]
     },
     "execution_count": 14,
     "metadata": {},
     "output_type": "execute_result"
    }
   ],
   "source": [
    "df = pd.read_csv(\"Acoustic_Extinguisher_Fire_Dataset.csv\")\n",
    "df[\"FUEL\"] = df[\"FUEL\"].astype(\"category\")\n",
    "df[\"FUEL\"] = df[\"FUEL\"].cat.codes\n",
    "x = df.iloc[:,:-1]\n",
    "y = df.iloc[:,-1]\n",
    "df.head()"
   ]
  },
  {
   "cell_type": "code",
   "execution_count": 15,
   "id": "2af1c83e",
   "metadata": {},
   "outputs": [],
   "source": [
    "cl = df.columns[:-1]\n",
    "cl = list(cl)"
   ]
  },
  {
   "cell_type": "code",
   "execution_count": 16,
   "id": "1ca3759b",
   "metadata": {},
   "outputs": [],
   "source": [
    "from sklearn.preprocessing import StandardScaler\n",
    "ss = StandardScaler()\n",
    "df[cl] = ss.fit_transform(df[cl])"
   ]
  },
  {
   "cell_type": "code",
   "execution_count": 17,
   "id": "e6638680",
   "metadata": {},
   "outputs": [
    {
     "data": {
      "text/plain": [
       "Row(SIZE=-1.3774219384009612, FUEL=-1.1852755159795074, DISTANCE=-1.6431676725154982, DESIBEL=-0.0464415350316309, AIRFLOW=-1.4728852648142814, FREQUENCY=2.0722013081031, STATUS=0)"
      ]
     },
     "execution_count": 17,
     "metadata": {},
     "output_type": "execute_result"
    }
   ],
   "source": [
    "df1 = spark.createDataFrame(df)\n",
    "df1.head()"
   ]
  },
  {
   "cell_type": "code",
   "execution_count": 18,
   "id": "0ede70b6",
   "metadata": {},
   "outputs": [],
   "source": [
    "from pyspark.ml.feature import VectorAssembler\n",
    "  \n",
    "vec_assembler = VectorAssembler(inputCols = cl,\n",
    "                                outputCol='features')"
   ]
  },
  {
   "cell_type": "code",
   "execution_count": 19,
   "id": "6af32cee",
   "metadata": {},
   "outputs": [
    {
     "name": "stdout",
     "output_type": "stream",
     "text": [
      "+--------------------+------+\n",
      "|            features|STATUS|\n",
      "+--------------------+------+\n",
      "|[-1.3774219384009...|     0|\n",
      "|[-1.3774219384009...|     1|\n",
      "|[-1.3774219384009...|     1|\n",
      "|[-1.3774219384009...|     1|\n",
      "|[-1.3774219384009...|     1|\n",
      "+--------------------+------+\n",
      "only showing top 5 rows\n",
      "\n"
     ]
    }
   ],
   "source": [
    "final_data = vec_assembler.transform(df1)\n",
    "final_data.select(['features','STATUS']).show(5)"
   ]
  },
  {
   "cell_type": "code",
   "execution_count": 20,
   "id": "92a43200",
   "metadata": {},
   "outputs": [],
   "source": [
    "train_data, test_data = final_data.randomSplit([0.8, 0.2], seed = 42)"
   ]
  },
  {
   "cell_type": "code",
   "execution_count": 21,
   "id": "e631806c",
   "metadata": {},
   "outputs": [],
   "source": [
    "from pyspark.ml.classification import LinearSVC\n",
    "svc = LinearSVC(labelCol='STATUS', maxIter=50)\n",
    "model = svc.fit(train_data)"
   ]
  },
  {
   "cell_type": "code",
   "execution_count": 24,
   "id": "23444f4a",
   "metadata": {},
   "outputs": [
    {
     "name": "stdout",
     "output_type": "stream",
     "text": [
      "+-------------------+-------------------+-------------------+--------------------+--------------------+--------------------+------+--------------------+--------------------+----------+\n",
      "|               SIZE|               FUEL|           DISTANCE|             DESIBEL|             AIRFLOW|           FREQUENCY|STATUS|            features|       rawPrediction|prediction|\n",
      "+-------------------+-------------------+-------------------+--------------------+--------------------+--------------------+------+--------------------+--------------------+----------+\n",
      "|-1.3774219384009612|-1.1852755159795074|-1.6431676725154982|  -1.393842985846518|-0.20600225654311807| -1.3664323606569737|     1|[-1.3774219384009...|[-1.9693001981756...|       1.0|\n",
      "|-1.3774219384009612|-1.1852755159795074|-1.6431676725154982| -0.7813877809306603|   1.039766034923526| -0.9366031520619645|     1|[-1.3774219384009...|[-3.4492905784426...|       1.0|\n",
      "|-1.3774219384009612|-1.1852755159795074|-1.6431676725154982| -0.5364056989643171|  1.1664543357506423| -0.9843619530169656|     1|[-1.3774219384009...|[-3.6953632066992...|       1.0|\n",
      "|-1.3774219384009612|-1.1852755159795074|-1.6431676725154982|-0.16893257601480247|  1.7365516894726658|  0.8782312842280745|     1|[-1.3774219384009...|[-3.5087824116006...|       1.0|\n",
      "|-1.3774219384009612|-1.1852755159795074|-1.6431676725154982|    0.81099575185057|  0.5752422652240992|  1.5946132985530896|     1|[-1.3774219384009...|[-1.9329960063234...|       1.0|\n",
      "|-1.3774219384009612|-1.1852755159795074|-1.6431676725154982|  1.0559778338169132|  1.4409456542093946| -1.0321207539719666|     1|[-1.3774219384009...|[-4.4714144035946...|       1.0|\n",
      "|-1.3774219384009612|-1.1852755159795074|-1.6431676725154982|  1.1784688748000847|  1.7154369726681462| -0.6500503463319584|     1|[-1.3774219384009...|[-4.6414400370990...|       1.0|\n",
      "|-1.3774219384009612|-1.1852755159795074|-1.6431676725154982|  1.4234509567664277|  1.7787811230817043| -0.4590151425119543|     1|[-1.3774219384009...|[-4.6815887914348...|       1.0|\n",
      "|-1.3774219384009612|-1.1852755159795074|-1.6431676725154982|  1.5459419977495994|  2.0321577247359377| -0.3157387396469512|     1|[-1.3774219384009...|[-4.9523568670610...|       1.0|\n",
      "|-1.3774219384009612|-1.1852755159795074|-1.6431676725154982|  1.5459419977495994|  2.1166165919540147|-0.07694473487194609|     1|[-1.3774219384009...|[-4.9305004987885...|       1.0|\n",
      "|-1.3774219384009612|-1.1852755159795074|-1.6431676725154982|  1.6684330387327708|  1.7154369726681462|0.018572867038055975|     1|[-1.3774219384009...|[-4.4115200379861...|       1.0|\n",
      "|-1.3774219384009612|-1.1852755159795074|-1.6431676725154982|  1.6684330387327708|  1.7787811230817043|  0.7827136823180724|     1|[-1.3774219384009...|[-4.0838851516065...|       1.0|\n",
      "|-1.3774219384009612|-1.1852755159795074|-1.6431676725154982|  1.7909240797159425|  1.7365516894726658|  0.7349548813630714|     1|[-1.3774219384009...|[-4.0881484559931...|       1.0|\n",
      "|-1.3774219384009612|-1.1852755159795074|-1.4605934866804429|  -2.251280272728719|  -0.691640743047064|  -1.414191161611975|     1|[-1.3774219384009...|[-1.0347545528879...|       1.0|\n",
      "|-1.3774219384009612|-1.1852755159795074|-1.4605934866804429| -0.7813877809306603|   1.314257353382278| -0.6500503463319584|     1|[-1.3774219384009...|[-3.5036501211494...|       1.0|\n",
      "|-1.3774219384009612|-1.1852755159795074|-1.4605934866804429| -0.6588967399474887|   1.103110185337084| -1.1276383558819687|     1|[-1.3774219384009...|[-3.5262186020666...|       1.0|\n",
      "|-1.3774219384009612|-1.1852755159795074|-1.4605934866804429| -0.5364056989643171|  1.4409456542093946| -0.4112563415569533|     1|[-1.3774219384009...|[-3.5972773893202...|       1.0|\n",
      "|-1.3774219384009612|-1.1852755159795074|-1.4605934866804429|  1.3009599157832563|  -1.240623379964568|  1.7378897014180927|     1|[-1.3774219384009...|[0.41387636686667...|       0.0|\n",
      "|-1.3774219384009612|-1.1852755159795074|-1.2780193008453875| -1.2713519448633466| 0.08960377872015346| -1.3664323606569737|     1|[-1.3774219384009...|[-2.0988121686355...|       1.0|\n",
      "|-1.3774219384009612|-1.1852755159795074|-1.2780193008453875|  -1.148860903880175|  0.8497335836828515| -1.2231559577919708|     1|[-1.3774219384009...|[-3.0006688350562...|       1.0|\n",
      "+-------------------+-------------------+-------------------+--------------------+--------------------+--------------------+------+--------------------+--------------------+----------+\n",
      "only showing top 20 rows\n",
      "\n"
     ]
    }
   ],
   "source": [
    "y_pred = model.transform(test_data)\n",
    "y_pred.show()"
   ]
  }
 ],
 "metadata": {
  "kernelspec": {
   "display_name": "Python 3 (ipykernel)",
   "language": "python",
   "name": "python3"
  },
  "language_info": {
   "codemirror_mode": {
    "name": "ipython",
    "version": 3
   },
   "file_extension": ".py",
   "mimetype": "text/x-python",
   "name": "python",
   "nbconvert_exporter": "python",
   "pygments_lexer": "ipython3",
   "version": "3.9.13"
  }
 },
 "nbformat": 4,
 "nbformat_minor": 5
}
